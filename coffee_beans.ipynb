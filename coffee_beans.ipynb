{
 "cells": [
  {
   "cell_type": "code",
   "execution_count": 1,
   "metadata": {
    "id": "8TmUch3X-Nbi"
   },
   "outputs": [],
   "source": [
    "%matplotlib inline\n",
    "import tensorflow as tf\n",
    "from tensorflow import keras\n",
    "from tensorflow.keras import callbacks\n",
    "\n",
    "import numpy as np\n",
    "import pandas as pd\n",
    "import matplotlib.pyplot as plt\n",
    "from tensorflow.keras.applications import ResNet50V2\n",
    "from tensorflow.keras.models import Sequential\n",
    "from tensorflow.keras.layers import Dense\n",
    "from tensorflow.keras.utils import to_categorical\n",
    "from tensorflow.keras.applications.resnet_v2 import preprocess_input\n",
    "from tensorflow.keras.preprocessing.image import load_img, img_to_array\n",
    "from tensorflow.keras.models import load_model\n",
    "\n",
    "\n",
    "import os, cv2, glob, random, datetime\n",
    "from PIL import Image\n",
    "from os import listdir\n",
    "from os.path import isfile, isdir, join\n",
    "\n",
    "import gradio as gr"
   ]
  },
  {
   "cell_type": "code",
   "execution_count": 2,
   "metadata": {},
   "outputs": [
    {
     "name": "stdout",
     "output_type": "stream",
     "text": [
      "./coffeebeans/Honey/Guatemala 圖片讀取中…\n",
      "圖片讀取完畢！\n"
     ]
    }
   ],
   "source": [
    "honey_images=[]\n",
    "for folders in glob.glob(\"./coffeebeans/Honey/*\"):\n",
    "    print(folders,\"圖片讀取中…\") \n",
    "    for filename in os.listdir(folders):\n",
    "        try:\n",
    "            img = cv2.imread(os.path.join(folders, filename))\n",
    "            img = cv2.resize(img, (256, 256))\n",
    "            img = cv2.cvtColor(img, cv2.COLOR_BGR2RGB)\n",
    "            if img is not None:\n",
    "                honey_images.append(img)      \n",
    "        except:\n",
    "            pass\n",
    "print('圖片讀取完畢！')"
   ]
  },
  {
   "cell_type": "code",
   "execution_count": 3,
   "metadata": {},
   "outputs": [
    {
     "name": "stdout",
     "output_type": "stream",
     "text": [
      "./coffeebeans/Natural/test 圖片讀取中…\n",
      "./coffeebeans/Natural/Ethiopia 圖片讀取中…\n",
      "圖片讀取完畢！\n"
     ]
    }
   ],
   "source": [
    "natural_images=[]\n",
    "for folders in glob.glob(\"./coffeebeans/Natural/*\"):\n",
    "    print(folders,\"圖片讀取中…\") \n",
    "    for filename in os.listdir(folders):\n",
    "        try:\n",
    "            img = cv2.imread(os.path.join(folders, filename))\n",
    "            img = cv2.resize(img, (256, 256))\n",
    "            img = cv2.cvtColor(img, cv2.COLOR_BGR2RGB)\n",
    "            if img is not None:\n",
    "                natural_images.append(img)      \n",
    "        except:\n",
    "            pass\n",
    "print('圖片讀取完畢！')"
   ]
  },
  {
   "cell_type": "code",
   "execution_count": 4,
   "metadata": {},
   "outputs": [
    {
     "name": "stdout",
     "output_type": "stream",
     "text": [
      "./coffeebeans/Washed/Guatemala 圖片讀取中…\n",
      "./coffeebeans/Washed/Nicaragua 圖片讀取中…\n",
      "./coffeebeans/Washed/Panama 圖片讀取中…\n",
      "圖片讀取完畢！\n"
     ]
    }
   ],
   "source": [
    "washed_images=[]\n",
    "for folders in glob.glob(\"./coffeebeans/Washed/*\"):\n",
    "    print(folders,\"圖片讀取中…\") \n",
    "    for filename in os.listdir(folders):\n",
    "        try:\n",
    "            img = cv2.imread(os.path.join(folders, filename))\n",
    "            img = cv2.resize(img, (256, 256))\n",
    "            img = cv2.cvtColor(img, cv2.COLOR_BGR2RGB)\n",
    "            if img is not None:\n",
    "                washed_images.append(img)      \n",
    "        except:\n",
    "            pass\n",
    "print('圖片讀取完畢！')"
   ]
  },
  {
   "cell_type": "code",
   "execution_count": 5,
   "metadata": {},
   "outputs": [
    {
     "name": "stdout",
     "output_type": "stream",
     "text": [
      "120\n",
      "58\n",
      "383\n"
     ]
    }
   ],
   "source": [
    "print(len(honey_images))\n",
    "print(len(natural_images))\n",
    "print(len(washed_images))"
   ]
  },
  {
   "cell_type": "code",
   "execution_count": 6,
   "metadata": {},
   "outputs": [
    {
     "data": {
      "text/plain": [
       "list"
      ]
     },
     "execution_count": 6,
     "metadata": {},
     "output_type": "execute_result"
    }
   ],
   "source": [
    "type(honey_images)"
   ]
  },
  {
   "cell_type": "code",
   "execution_count": 7,
   "metadata": {
    "id": "SOfBH3FWOPwN"
   },
   "outputs": [],
   "source": [
    "honey_dir = honey_images\n",
    "natural_dir = natural_images\n",
    "washed_dir = washed_images\n",
    "coffee_folders = [honey_dir , natural_dir , washed_dir]"
   ]
  },
  {
   "cell_type": "code",
   "execution_count": 8,
   "metadata": {},
   "outputs": [
    {
     "data": {
      "text/plain": [
       "3"
      ]
     },
     "execution_count": 8,
     "metadata": {},
     "output_type": "execute_result"
    }
   ],
   "source": [
    "len(coffee_folders)"
   ]
  },
  {
   "cell_type": "code",
   "execution_count": 9,
   "metadata": {},
   "outputs": [
    {
     "data": {
      "text/plain": [
       "120"
      ]
     },
     "execution_count": 9,
     "metadata": {},
     "output_type": "execute_result"
    }
   ],
   "source": [
    "len(coffee_folders[0])"
   ]
  },
  {
   "cell_type": "code",
   "execution_count": 10,
   "metadata": {
    "id": "_vJ_57FXQu5Q"
   },
   "outputs": [],
   "source": [
    "data = []\n",
    "target = []\n",
    "for i in range(3):\n",
    "    thedir = coffee_folders[i]\n",
    "    #myna_fnames = os.listdir(thedir)\n",
    "    for j in range(len(thedir)):\n",
    "        img = thedir[j]\n",
    "        #x = img_to_array(img)\n",
    "        data.append(img)\n",
    "        target.append(i)"
   ]
  },
  {
   "cell_type": "code",
   "execution_count": 11,
   "metadata": {},
   "outputs": [
    {
     "data": {
      "text/plain": [
       "(561, 256, 256, 3)"
      ]
     },
     "execution_count": 11,
     "metadata": {},
     "output_type": "execute_result"
    }
   ],
   "source": [
    "data = np.array(data)\n",
    "data.shape"
   ]
  },
  {
   "cell_type": "code",
   "execution_count": 12,
   "metadata": {
    "id": "LXVDW4qpk_7J"
   },
   "outputs": [],
   "source": [
    "#CSVLogger\n",
    "folder = './coffeebeans/save_coffee_record'\n",
    "if not os.path.exists(folder):\n",
    "    os.mkdir(folder)\n",
    "    \n",
    "csv_path = './coffeebeans/save_coffee_record/train_imdb_log.csv'  # 檔案儲存的位置\n",
    "\n",
    "csvlogger = callbacks.CSVLogger(csv_path, \n",
    "                                separator=',', # 檔案中的分隔字串\n",
    "                                append=False)  # 是否覆蓋已存在的檔案"
   ]
  },
  {
   "cell_type": "code",
   "execution_count": 13,
   "metadata": {
    "id": "69jOVQIPlX_C"
   },
   "outputs": [],
   "source": [
    "#ModelCheckpoint\n",
    "folder = './coffeebeans/save_coffee_model'\n",
    "if not os.path.exists(folder):\n",
    "    os.mkdir(folder)\n",
    "    \n",
    "model_path = './coffeebeans/save_coffee_model/coffee_beans_model.h5'  # 模型儲存的位置\n",
    "\n",
    "# 建立 Checkpoint\n",
    "checkpoint = callbacks.ModelCheckpoint(model_path,\n",
    "                                       verbose=1,\n",
    "                                       monitor='val_loss',   # 儲存模型的觀察指標\n",
    "                                       save_best_only=True,  # 是否只儲存最好的\n",
    "                                       mode='min')           # 與指標搭配模式"
   ]
  },
  {
   "cell_type": "code",
   "execution_count": 14,
   "metadata": {
    "id": "LzIy2_YyloVL"
   },
   "outputs": [],
   "source": [
    "#EarlyStopping\n",
    "n_patience = 15  # 訓練過程經過 n_patience 次沒有進步就不忍了，數字要大於下面的ReduceLROnPlateau\n",
    "early_stopping = callbacks.EarlyStopping(monitor='val_loss',   # 停止訓練的觀察指標\n",
    "                                         patience=n_patience,\n",
    "                                         verbose=1)"
   ]
  },
  {
   "cell_type": "code",
   "execution_count": 15,
   "metadata": {
    "id": "wSuyJXtplpZf"
   },
   "outputs": [],
   "source": [
    "#ReduceLROnPlateau\n",
    "lr_patience = 13 # 訓練過程經過 lr_patience 次沒有進步，就會調整學習率\n",
    "reduce_lr = callbacks.ReduceLROnPlateau(monitor='val_loss', # 調整學習率的觀察指標\n",
    "                                        factor=0.1, # 縮放學習率的值，lr = lr*factor\n",
    "                                        patience=lr_patience, \n",
    "                                        min_lr=1e-4, # 學習率縮放的最小值\n",
    "                                        verbose=1,\n",
    "                                        mode='min') # 與指標搭配模式"
   ]
  },
  {
   "cell_type": "code",
   "execution_count": 16,
   "metadata": {
    "id": "QJ-4neHJlsY_"
   },
   "outputs": [],
   "source": [
    "%load_ext tensorboard"
   ]
  },
  {
   "cell_type": "code",
   "execution_count": 17,
   "metadata": {
    "id": "JTX1848frwl_"
   },
   "outputs": [],
   "source": [
    "logdir = os.path.join('coffeelogs', \n",
    "                      datetime.datetime.now().strftime(\"%Y%m%d-%H%M%S\"))\n",
    "tensorboard = callbacks.TensorBoard(logdir,             # 訓練記錄儲存的位置\n",
    "                                    histogram_freq=1)   # 每一個epoch統計1次參數分布的直方圖"
   ]
  },
  {
   "cell_type": "code",
   "execution_count": 18,
   "metadata": {
    "colab": {
     "base_uri": "https://localhost:8080/"
    },
    "id": "K8RPS55rSBCN",
    "outputId": "76ec8b69-6131-4efd-a354-f3ebb2eb8049"
   },
   "outputs": [
    {
     "data": {
      "text/plain": [
       "(561, 256, 256, 3)"
      ]
     },
     "execution_count": 18,
     "metadata": {},
     "output_type": "execute_result"
    }
   ],
   "source": [
    "data = np.array(data)\n",
    "data.shape"
   ]
  },
  {
   "cell_type": "code",
   "execution_count": 19,
   "metadata": {
    "colab": {
     "base_uri": "https://localhost:8080/",
     "height": 248
    },
    "id": "OdJq5j89SvHf",
    "outputId": "70ef7c17-1cdb-4fad-e90c-0e85cbc19040"
   },
   "outputs": [
    {
     "data": {
      "image/png": "[encoded data removed]",
      "text/plain": [
       "<Figure size 432x288 with 1 Axes>"
      ]
     },
     "metadata": {
      "needs_background": "light"
     },
     "output_type": "display_data"
    }
   ],
   "source": [
    "n = 500\n",
    "plt.imshow(data[n])\n",
    "plt.axis('off');"
   ]
  },
  {
   "cell_type": "code",
   "execution_count": 20,
   "metadata": {
    "id": "QfnpvnGFS06K"
   },
   "outputs": [],
   "source": [
    "x_train = preprocess_input(data)"
   ]
  },
  {
   "cell_type": "code",
   "execution_count": 21,
   "metadata": {
    "colab": {
     "base_uri": "https://localhost:8080/"
    },
    "id": "bXnyroKxTTtt",
    "outputId": "ddf30e0f-bc5d-4714-865a-ae1834da999d"
   },
   "outputs": [
    {
     "data": {
      "text/plain": [
       "2"
      ]
     },
     "execution_count": 21,
     "metadata": {},
     "output_type": "execute_result"
    }
   ],
   "source": [
    "target[n]"
   ]
  },
  {
   "cell_type": "code",
   "execution_count": 22,
   "metadata": {
    "id": "UpIGKqSVTa3d"
   },
   "outputs": [],
   "source": [
    "y_train = to_categorical(target, 3)"
   ]
  },
  {
   "cell_type": "code",
   "execution_count": 23,
   "metadata": {
    "colab": {
     "base_uri": "https://localhost:8080/"
    },
    "id": "lG8wrc37TdPA",
    "outputId": "6746d71b-3b37-4da6-92bd-1f39bff3fd1f"
   },
   "outputs": [
    {
     "name": "stderr",
     "output_type": "stream",
     "text": [
      "2022-08-13 14:20:51.193540: I tensorflow/core/common_runtime/pluggable_device/pluggable_device_factory.cc:305] Could not identify NUMA node of platform GPU ID 0, defaulting to 0. Your kernel may not have been built with NUMA support.\n",
      "2022-08-13 14:20:51.193815: I tensorflow/core/common_runtime/pluggable_device/pluggable_device_factory.cc:271] Created TensorFlow device (/job:localhost/replica:0/task:0/device:GPU:0 with 0 MB memory) -> physical PluggableDevice (device: 0, name: METAL, pci bus id: <undefined>)\n"
     ]
    },
    {
     "name": "stdout",
     "output_type": "stream",
     "text": [
      "Metal device set to: Apple M1 Pro\n"
     ]
    }
   ],
   "source": [
    "resnet = ResNet50V2(include_top=False, pooling=\"avg\")"
   ]
  },
  {
   "cell_type": "code",
   "execution_count": 24,
   "metadata": {
    "colab": {
     "base_uri": "https://localhost:8080/"
    },
    "id": "Y1QDhZNOTz5H",
    "outputId": "60296a78-c7f2-4c07-99bc-5345a7d01354"
   },
   "outputs": [
    {
     "name": "stdout",
     "output_type": "stream",
     "text": [
      "Model: \"sequential\"\n",
      "_________________________________________________________________\n",
      " Layer (type)                Output Shape              Param #   \n",
      "=================================================================\n",
      " resnet50v2 (Functional)     (None, 2048)              23564800  \n",
      "                                                                 \n",
      " dense (Dense)               (None, 3)                 6147      \n",
      "                                                                 \n",
      "=================================================================\n",
      "Total params: 23,570,947\n",
      "Trainable params: 6,147\n",
      "Non-trainable params: 23,564,800\n",
      "_________________________________________________________________\n"
     ]
    }
   ],
   "source": [
    "model = Sequential()\n",
    "model.add(resnet)\n",
    "model.add(Dense(3, activation='softmax'))\n",
    "resnet.trainable = False\n",
    "model.summary()"
   ]
  },
  {
   "cell_type": "code",
   "execution_count": 25,
   "metadata": {
    "id": "r51yzQefUGdi"
   },
   "outputs": [],
   "source": [
    "model.compile(loss='categorical_crossentropy', \n",
    "              optimizer='adam', \n",
    "              metrics=['accuracy'])"
   ]
  },
  {
   "cell_type": "code",
   "execution_count": 26,
   "metadata": {
    "id": "1oKmrwg1rPBY"
   },
   "outputs": [],
   "source": [
    "callbacks_list = [csvlogger, checkpoint, early_stopping, reduce_lr, tensorboard]"
   ]
  },
  {
   "cell_type": "code",
   "execution_count": 27,
   "metadata": {
    "colab": {
     "base_uri": "https://localhost:8080/",
     "height": 1000
    },
    "id": "SdLC1eNRUJQ0",
    "outputId": "782a1c47-46ca-4123-e081-986c72c4789d"
   },
   "outputs": [
    {
     "name": "stdout",
     "output_type": "stream",
     "text": [
      "Epoch 1/100\n"
     ]
    },
    {
     "name": "stderr",
     "output_type": "stream",
     "text": [
      "2022-08-13 14:20:52.707557: W tensorflow/core/platform/profile_utils/cpu_utils.cc:128] Failed to get CPU frequency: 0 Hz\n",
      "2022-08-13 14:20:53.966905: I tensorflow/core/grappler/optimizers/custom_graph_optimizer_registry.cc:113] Plugin optimizer for device_type GPU is enabled.\n"
     ]
    },
    {
     "name": "stdout",
     "output_type": "stream",
     "text": [
      "22/22 [==============================] - ETA: 0s - loss: 0.9424 - accuracy: 0.6032"
     ]
    },
    {
     "name": "stderr",
     "output_type": "stream",
     "text": [
      "2022-08-13 14:20:57.927027: I tensorflow/core/grappler/optimizers/custom_graph_optimizer_registry.cc:113] Plugin optimizer for device_type GPU is enabled.\n"
     ]
    },
    {
     "name": "stdout",
     "output_type": "stream",
     "text": [
      "\n",
      "Epoch 1: val_loss improved from inf to 0.41661, saving model to ./coffeebeans/save_coffee_model/coffee_beans_model.h5\n",
      "22/22 [==============================] - 8s 265ms/step - loss: 0.9424 - accuracy: 0.6032 - val_loss: 0.4166 - val_accuracy: 0.9123 - lr: 0.0010\n",
      "Epoch 2/100\n",
      "22/22 [==============================] - ETA: 0s - loss: 0.4705 - accuracy: 0.8532\n",
      "Epoch 2: val_loss improved from 0.41661 to 0.20033, saving model to ./coffeebeans/save_coffee_model/coffee_beans_model.h5\n",
      "22/22 [==============================] - 5s 233ms/step - loss: 0.4705 - accuracy: 0.8532 - val_loss: 0.2003 - val_accuracy: 0.9649 - lr: 0.0010\n",
      "Epoch 3/100\n",
      "22/22 [==============================] - ETA: 0s - loss: 0.3445 - accuracy: 0.8829\n",
      "Epoch 3: val_loss did not improve from 0.20033\n",
      "22/22 [==============================] - 5s 212ms/step - loss: 0.3445 - accuracy: 0.8829 - val_loss: 0.2581 - val_accuracy: 0.9298 - lr: 0.0010\n",
      "Epoch 4/100\n",
      "22/22 [==============================] - ETA: 0s - loss: 0.2810 - accuracy: 0.9127\n",
      "Epoch 4: val_loss did not improve from 0.20033\n",
      "22/22 [==============================] - 5s 211ms/step - loss: 0.2810 - accuracy: 0.9127 - val_loss: 0.2378 - val_accuracy: 0.9123 - lr: 0.0010\n",
      "Epoch 5/100\n",
      "22/22 [==============================] - ETA: 0s - loss: 0.2415 - accuracy: 0.9425\n",
      "Epoch 5: val_loss did not improve from 0.20033\n",
      "22/22 [==============================] - 5s 209ms/step - loss: 0.2415 - accuracy: 0.9425 - val_loss: 0.2382 - val_accuracy: 0.9123 - lr: 0.0010\n",
      "Epoch 6/100\n",
      "22/22 [==============================] - ETA: 0s - loss: 0.2058 - accuracy: 0.9504\n",
      "Epoch 6: val_loss did not improve from 0.20033\n",
      "22/22 [==============================] - 5s 211ms/step - loss: 0.2058 - accuracy: 0.9504 - val_loss: 0.2337 - val_accuracy: 0.8947 - lr: 0.0010\n",
      "Epoch 7/100\n",
      "22/22 [==============================] - ETA: 0s - loss: 0.1803 - accuracy: 0.9623\n",
      "Epoch 7: val_loss improved from 0.20033 to 0.17525, saving model to ./coffeebeans/save_coffee_model/coffee_beans_model.h5\n",
      "22/22 [==============================] - 5s 220ms/step - loss: 0.1803 - accuracy: 0.9623 - val_loss: 0.1753 - val_accuracy: 0.9474 - lr: 0.0010\n",
      "Epoch 8/100\n",
      "22/22 [==============================] - ETA: 0s - loss: 0.1671 - accuracy: 0.9583\n",
      "Epoch 8: val_loss did not improve from 0.17525\n",
      "22/22 [==============================] - 5s 208ms/step - loss: 0.1671 - accuracy: 0.9583 - val_loss: 0.1803 - val_accuracy: 0.9474 - lr: 0.0010\n",
      "Epoch 9/100\n",
      "22/22 [==============================] - ETA: 0s - loss: 0.1565 - accuracy: 0.9524\n",
      "Epoch 9: val_loss did not improve from 0.17525\n",
      "22/22 [==============================] - 5s 209ms/step - loss: 0.1565 - accuracy: 0.9524 - val_loss: 0.2500 - val_accuracy: 0.8947 - lr: 0.0010\n",
      "Epoch 10/100\n",
      "22/22 [==============================] - ETA: 0s - loss: 0.1328 - accuracy: 0.9722\n",
      "Epoch 10: val_loss did not improve from 0.17525\n",
      "22/22 [==============================] - 5s 208ms/step - loss: 0.1328 - accuracy: 0.9722 - val_loss: 0.2144 - val_accuracy: 0.9123 - lr: 0.0010\n",
      "Epoch 11/100\n",
      "22/22 [==============================] - ETA: 0s - loss: 0.1209 - accuracy: 0.9782\n",
      "Epoch 11: val_loss improved from 0.17525 to 0.16401, saving model to ./coffeebeans/save_coffee_model/coffee_beans_model.h5\n",
      "22/22 [==============================] - 5s 222ms/step - loss: 0.1209 - accuracy: 0.9782 - val_loss: 0.1640 - val_accuracy: 0.9474 - lr: 0.0010\n",
      "Epoch 12/100\n",
      "22/22 [==============================] - ETA: 0s - loss: 0.1104 - accuracy: 0.9901\n",
      "Epoch 12: val_loss did not improve from 0.16401\n",
      "22/22 [==============================] - 5s 215ms/step - loss: 0.1104 - accuracy: 0.9901 - val_loss: 0.1853 - val_accuracy: 0.9298 - lr: 0.0010\n",
      "Epoch 13/100\n",
      "22/22 [==============================] - ETA: 0s - loss: 0.1006 - accuracy: 0.9861\n",
      "Epoch 13: val_loss did not improve from 0.16401\n",
      "22/22 [==============================] - 5s 208ms/step - loss: 0.1006 - accuracy: 0.9861 - val_loss: 0.2066 - val_accuracy: 0.9123 - lr: 0.0010\n",
      "Epoch 14/100\n",
      "22/22 [==============================] - ETA: 0s - loss: 0.0965 - accuracy: 0.9901\n",
      "Epoch 14: val_loss did not improve from 0.16401\n",
      "22/22 [==============================] - 5s 207ms/step - loss: 0.0965 - accuracy: 0.9901 - val_loss: 0.1713 - val_accuracy: 0.9474 - lr: 0.0010\n",
      "Epoch 15/100\n",
      "22/22 [==============================] - ETA: 0s - loss: 0.0866 - accuracy: 0.9940\n",
      "Epoch 15: val_loss did not improve from 0.16401\n",
      "22/22 [==============================] - 5s 206ms/step - loss: 0.0866 - accuracy: 0.9940 - val_loss: 0.1771 - val_accuracy: 0.9474 - lr: 0.0010\n",
      "Epoch 16/100\n",
      "22/22 [==============================] - ETA: 0s - loss: 0.0794 - accuracy: 0.9940\n",
      "Epoch 16: val_loss did not improve from 0.16401\n",
      "22/22 [==============================] - 5s 206ms/step - loss: 0.0794 - accuracy: 0.9940 - val_loss: 0.1728 - val_accuracy: 0.9474 - lr: 0.0010\n",
      "Epoch 17/100\n",
      "22/22 [==============================] - ETA: 0s - loss: 0.0747 - accuracy: 0.9940\n",
      "Epoch 17: val_loss did not improve from 0.16401\n",
      "22/22 [==============================] - 5s 210ms/step - loss: 0.0747 - accuracy: 0.9940 - val_loss: 0.1702 - val_accuracy: 0.9298 - lr: 0.0010\n",
      "Epoch 18/100\n",
      "22/22 [==============================] - ETA: 0s - loss: 0.0695 - accuracy: 0.9940\n",
      "Epoch 18: val_loss did not improve from 0.16401\n",
      "22/22 [==============================] - 4s 207ms/step - loss: 0.0695 - accuracy: 0.9940 - val_loss: 0.1805 - val_accuracy: 0.9474 - lr: 0.0010\n",
      "Epoch 19/100\n",
      "22/22 [==============================] - ETA: 0s - loss: 0.0658 - accuracy: 0.9960\n",
      "Epoch 19: val_loss improved from 0.16401 to 0.15121, saving model to ./coffeebeans/save_coffee_model/coffee_beans_model.h5\n",
      "22/22 [==============================] - 5s 218ms/step - loss: 0.0658 - accuracy: 0.9960 - val_loss: 0.1512 - val_accuracy: 0.9474 - lr: 0.0010\n",
      "Epoch 20/100\n",
      "22/22 [==============================] - ETA: 0s - loss: 0.0613 - accuracy: 0.9960\n",
      "Epoch 20: val_loss did not improve from 0.15121\n",
      "22/22 [==============================] - 5s 204ms/step - loss: 0.0613 - accuracy: 0.9960 - val_loss: 0.1850 - val_accuracy: 0.9123 - lr: 0.0010\n",
      "Epoch 21/100\n",
      "22/22 [==============================] - ETA: 0s - loss: 0.0574 - accuracy: 0.9960\n",
      "Epoch 21: val_loss improved from 0.15121 to 0.14941, saving model to ./coffeebeans/save_coffee_model/coffee_beans_model.h5\n",
      "22/22 [==============================] - 5s 214ms/step - loss: 0.0574 - accuracy: 0.9960 - val_loss: 0.1494 - val_accuracy: 0.9474 - lr: 0.0010\n",
      "Epoch 22/100\n",
      "22/22 [==============================] - ETA: 0s - loss: 0.0532 - accuracy: 0.9960\n",
      "Epoch 22: val_loss did not improve from 0.14941\n",
      "22/22 [==============================] - 5s 204ms/step - loss: 0.0532 - accuracy: 0.9960 - val_loss: 0.1911 - val_accuracy: 0.8947 - lr: 0.0010\n",
      "Epoch 23/100\n",
      "22/22 [==============================] - ETA: 0s - loss: 0.0521 - accuracy: 0.9960\n",
      "Epoch 23: val_loss did not improve from 0.14941\n",
      "22/22 [==============================] - 4s 206ms/step - loss: 0.0521 - accuracy: 0.9960 - val_loss: 0.1729 - val_accuracy: 0.9123 - lr: 0.0010\n",
      "Epoch 24/100\n",
      "22/22 [==============================] - ETA: 0s - loss: 0.0483 - accuracy: 0.9980\n",
      "Epoch 24: val_loss did not improve from 0.14941\n",
      "22/22 [==============================] - 5s 212ms/step - loss: 0.0483 - accuracy: 0.9980 - val_loss: 0.1605 - val_accuracy: 0.9474 - lr: 0.0010\n",
      "Epoch 25/100\n",
      "22/22 [==============================] - ETA: 0s - loss: 0.0473 - accuracy: 0.9960\n",
      "Epoch 25: val_loss did not improve from 0.14941\n",
      "22/22 [==============================] - 5s 210ms/step - loss: 0.0473 - accuracy: 0.9960 - val_loss: 0.2001 - val_accuracy: 0.8947 - lr: 0.0010\n",
      "Epoch 26/100\n",
      "22/22 [==============================] - ETA: 0s - loss: 0.0457 - accuracy: 0.9980\n",
      "Epoch 26: val_loss did not improve from 0.14941\n",
      "22/22 [==============================] - 5s 209ms/step - loss: 0.0457 - accuracy: 0.9980 - val_loss: 0.1735 - val_accuracy: 0.9474 - lr: 0.0010\n",
      "Epoch 27/100\n",
      "22/22 [==============================] - ETA: 0s - loss: 0.0409 - accuracy: 1.0000\n",
      "Epoch 27: val_loss did not improve from 0.14941\n",
      "22/22 [==============================] - 5s 215ms/step - loss: 0.0409 - accuracy: 1.0000 - val_loss: 0.1585 - val_accuracy: 0.9123 - lr: 0.0010\n",
      "Epoch 28/100\n"
     ]
    },
    {
     "name": "stdout",
     "output_type": "stream",
     "text": [
      "22/22 [==============================] - ETA: 0s - loss: 0.0382 - accuracy: 1.0000\n",
      "Epoch 28: val_loss did not improve from 0.14941\n",
      "22/22 [==============================] - 5s 214ms/step - loss: 0.0382 - accuracy: 1.0000 - val_loss: 0.1743 - val_accuracy: 0.9123 - lr: 0.0010\n",
      "Epoch 29/100\n",
      "22/22 [==============================] - ETA: 0s - loss: 0.0376 - accuracy: 0.9980\n",
      "Epoch 29: val_loss improved from 0.14941 to 0.14401, saving model to ./coffeebeans/save_coffee_model/coffee_beans_model.h5\n",
      "22/22 [==============================] - 5s 224ms/step - loss: 0.0376 - accuracy: 0.9980 - val_loss: 0.1440 - val_accuracy: 0.9474 - lr: 0.0010\n",
      "Epoch 30/100\n",
      "22/22 [==============================] - ETA: 0s - loss: 0.0362 - accuracy: 1.0000\n",
      "Epoch 30: val_loss did not improve from 0.14401\n",
      "22/22 [==============================] - 5s 212ms/step - loss: 0.0362 - accuracy: 1.0000 - val_loss: 0.1765 - val_accuracy: 0.9123 - lr: 0.0010\n",
      "Epoch 31/100\n",
      "22/22 [==============================] - ETA: 0s - loss: 0.0338 - accuracy: 1.0000\n",
      "Epoch 31: val_loss did not improve from 0.14401\n",
      "22/22 [==============================] - 4s 208ms/step - loss: 0.0338 - accuracy: 1.0000 - val_loss: 0.1587 - val_accuracy: 0.9474 - lr: 0.0010\n",
      "Epoch 32/100\n",
      "22/22 [==============================] - ETA: 0s - loss: 0.0322 - accuracy: 1.0000\n",
      "Epoch 32: val_loss did not improve from 0.14401\n",
      "22/22 [==============================] - 4s 206ms/step - loss: 0.0322 - accuracy: 1.0000 - val_loss: 0.1725 - val_accuracy: 0.9123 - lr: 0.0010\n",
      "Epoch 33/100\n",
      "22/22 [==============================] - ETA: 0s - loss: 0.0307 - accuracy: 1.0000\n",
      "Epoch 33: val_loss did not improve from 0.14401\n",
      "22/22 [==============================] - 4s 200ms/step - loss: 0.0307 - accuracy: 1.0000 - val_loss: 0.1582 - val_accuracy: 0.9474 - lr: 0.0010\n",
      "Epoch 34/100\n",
      "22/22 [==============================] - ETA: 0s - loss: 0.0302 - accuracy: 1.0000\n",
      "Epoch 34: val_loss did not improve from 0.14401\n",
      "22/22 [==============================] - 4s 198ms/step - loss: 0.0302 - accuracy: 1.0000 - val_loss: 0.1807 - val_accuracy: 0.9123 - lr: 0.0010\n",
      "Epoch 35/100\n",
      "22/22 [==============================] - ETA: 0s - loss: 0.0291 - accuracy: 1.0000\n",
      "Epoch 35: val_loss improved from 0.14401 to 0.13592, saving model to ./coffeebeans/save_coffee_model/coffee_beans_model.h5\n",
      "22/22 [==============================] - 5s 212ms/step - loss: 0.0291 - accuracy: 1.0000 - val_loss: 0.1359 - val_accuracy: 0.9474 - lr: 0.0010\n",
      "Epoch 36/100\n",
      "22/22 [==============================] - ETA: 0s - loss: 0.0284 - accuracy: 1.0000\n",
      "Epoch 36: val_loss did not improve from 0.13592\n",
      "22/22 [==============================] - 4s 203ms/step - loss: 0.0284 - accuracy: 1.0000 - val_loss: 0.1682 - val_accuracy: 0.9123 - lr: 0.0010\n",
      "Epoch 37/100\n",
      "22/22 [==============================] - ETA: 0s - loss: 0.0256 - accuracy: 1.0000\n",
      "Epoch 37: val_loss did not improve from 0.13592\n",
      "22/22 [==============================] - 4s 204ms/step - loss: 0.0256 - accuracy: 1.0000 - val_loss: 0.1620 - val_accuracy: 0.9123 - lr: 0.0010\n",
      "Epoch 38/100\n",
      "22/22 [==============================] - ETA: 0s - loss: 0.0251 - accuracy: 1.0000\n",
      "Epoch 38: val_loss did not improve from 0.13592\n",
      "22/22 [==============================] - 4s 204ms/step - loss: 0.0251 - accuracy: 1.0000 - val_loss: 0.1671 - val_accuracy: 0.9298 - lr: 0.0010\n",
      "Epoch 39/100\n",
      "22/22 [==============================] - ETA: 0s - loss: 0.0242 - accuracy: 1.0000\n",
      "Epoch 39: val_loss did not improve from 0.13592\n",
      "22/22 [==============================] - 4s 206ms/step - loss: 0.0242 - accuracy: 1.0000 - val_loss: 0.1527 - val_accuracy: 0.9474 - lr: 0.0010\n",
      "Epoch 40/100\n",
      "22/22 [==============================] - ETA: 0s - loss: 0.0229 - accuracy: 1.0000\n",
      "Epoch 40: val_loss did not improve from 0.13592\n",
      "22/22 [==============================] - 4s 203ms/step - loss: 0.0229 - accuracy: 1.0000 - val_loss: 0.1675 - val_accuracy: 0.9123 - lr: 0.0010\n",
      "Epoch 41/100\n",
      "22/22 [==============================] - ETA: 0s - loss: 0.0220 - accuracy: 1.0000\n",
      "Epoch 41: val_loss did not improve from 0.13592\n",
      "22/22 [==============================] - 4s 203ms/step - loss: 0.0220 - accuracy: 1.0000 - val_loss: 0.1500 - val_accuracy: 0.9474 - lr: 0.0010\n",
      "Epoch 42/100\n",
      "22/22 [==============================] - ETA: 0s - loss: 0.0213 - accuracy: 1.0000\n",
      "Epoch 42: val_loss did not improve from 0.13592\n",
      "22/22 [==============================] - 4s 203ms/step - loss: 0.0213 - accuracy: 1.0000 - val_loss: 0.1706 - val_accuracy: 0.9298 - lr: 0.0010\n",
      "Epoch 43/100\n",
      "22/22 [==============================] - ETA: 0s - loss: 0.0205 - accuracy: 1.0000\n",
      "Epoch 43: val_loss did not improve from 0.13592\n",
      "22/22 [==============================] - 4s 200ms/step - loss: 0.0205 - accuracy: 1.0000 - val_loss: 0.1601 - val_accuracy: 0.9298 - lr: 0.0010\n",
      "Epoch 44/100\n",
      "22/22 [==============================] - ETA: 0s - loss: 0.0198 - accuracy: 1.0000\n",
      "Epoch 44: val_loss did not improve from 0.13592\n",
      "22/22 [==============================] - 4s 204ms/step - loss: 0.0198 - accuracy: 1.0000 - val_loss: 0.1669 - val_accuracy: 0.9298 - lr: 0.0010\n",
      "Epoch 45/100\n",
      "22/22 [==============================] - ETA: 0s - loss: 0.0193 - accuracy: 1.0000\n",
      "Epoch 45: val_loss did not improve from 0.13592\n",
      "22/22 [==============================] - 4s 200ms/step - loss: 0.0193 - accuracy: 1.0000 - val_loss: 0.1502 - val_accuracy: 0.9474 - lr: 0.0010\n",
      "Epoch 46/100\n",
      "22/22 [==============================] - ETA: 0s - loss: 0.0186 - accuracy: 1.0000\n",
      "Epoch 46: val_loss did not improve from 0.13592\n",
      "22/22 [==============================] - 4s 203ms/step - loss: 0.0186 - accuracy: 1.0000 - val_loss: 0.1766 - val_accuracy: 0.9123 - lr: 0.0010\n",
      "Epoch 47/100\n",
      "22/22 [==============================] - ETA: 0s - loss: 0.0181 - accuracy: 1.0000\n",
      "Epoch 47: val_loss did not improve from 0.13592\n",
      "22/22 [==============================] - 4s 202ms/step - loss: 0.0181 - accuracy: 1.0000 - val_loss: 0.1572 - val_accuracy: 0.9474 - lr: 0.0010\n",
      "Epoch 48/100\n",
      "22/22 [==============================] - ETA: 0s - loss: 0.0173 - accuracy: 1.0000\n",
      "Epoch 48: val_loss did not improve from 0.13592\n",
      "\n",
      "Epoch 48: ReduceLROnPlateau reducing learning rate to 0.00010000000474974513.\n",
      "22/22 [==============================] - 4s 205ms/step - loss: 0.0173 - accuracy: 1.0000 - val_loss: 0.1678 - val_accuracy: 0.9298 - lr: 0.0010\n",
      "Epoch 49/100\n",
      "22/22 [==============================] - ETA: 0s - loss: 0.0166 - accuracy: 1.0000\n",
      "Epoch 49: val_loss did not improve from 0.13592\n",
      "22/22 [==============================] - 5s 211ms/step - loss: 0.0166 - accuracy: 1.0000 - val_loss: 0.1669 - val_accuracy: 0.9298 - lr: 1.0000e-04\n",
      "Epoch 50/100\n",
      "22/22 [==============================] - ETA: 0s - loss: 0.0166 - accuracy: 1.0000\n",
      "Epoch 50: val_loss did not improve from 0.13592\n",
      "22/22 [==============================] - 5s 208ms/step - loss: 0.0166 - accuracy: 1.0000 - val_loss: 0.1655 - val_accuracy: 0.9298 - lr: 1.0000e-04\n",
      "Epoch 50: early stopping\n"
     ]
    }
   ],
   "source": [
    "history = model.fit(x_train, y_train, \n",
    "                    batch_size=23, \n",
    "                    epochs=100,\n",
    "                    verbose=1,\n",
    "                    validation_split=0.1,\n",
    "                    callbacks = callbacks_list)"
   ]
  },
  {
   "cell_type": "code",
   "execution_count": 28,
   "metadata": {
    "id": "rQIn9zwNUN5P"
   },
   "outputs": [
    {
     "name": "stderr",
     "output_type": "stream",
     "text": [
      "2022-08-13 14:24:44.436517: I tensorflow/core/grappler/optimizers/custom_graph_optimizer_registry.cc:113] Plugin optimizer for device_type GPU is enabled.\n"
     ]
    },
    {
     "name": "stdout",
     "output_type": "stream",
     "text": [
      "18/18 [==============================] - 4s 155ms/step\n"
     ]
    }
   ],
   "source": [
    "y_predict = np.argmax(model.predict(x_train), -1)"
   ]
  },
  {
   "cell_type": "code",
   "execution_count": 29,
   "metadata": {
    "id": "UockUL_oUreQ"
   },
   "outputs": [
    {
     "name": "stdout",
     "output_type": "stream",
     "text": [
      "18/18 [==============================] - 3s 156ms/step - loss: 0.0317 - accuracy: 0.9929\n",
      "Loss: 0.03167185187339783\n",
      "Accuracy: 0.9928699135780334\n"
     ]
    }
   ],
   "source": [
    "loss, acc = model.evaluate(x_train, y_train)\n",
    "print(f\"Loss: {loss}\")\n",
    "print(f\"Accuracy: {acc}\")"
   ]
  },
  {
   "cell_type": "code",
   "execution_count": 30,
   "metadata": {
    "id": "fRcMkOWlUwge"
   },
   "outputs": [],
   "source": [
    "labels = [\"蜜處理\", \"日曬\", \"水洗\"]"
   ]
  },
  {
   "cell_type": "code",
   "execution_count": 31,
   "metadata": {
    "id": "Cv9OgKtubHhN"
   },
   "outputs": [],
   "source": [
    "def classify_image(inp):\n",
    "    inp = inp.reshape((-1, 256, 256, 3))\n",
    "    inp = preprocess_input(inp)\n",
    "    prediction = model.predict(inp).flatten()\n",
    "    return {labels[i]: float(prediction[i]) for i in range(3)}"
   ]
  },
  {
   "cell_type": "code",
   "execution_count": 32,
   "metadata": {
    "id": "8Yzmtct_XD0v"
   },
   "outputs": [],
   "source": [
    "def classify_image(inp):\n",
    "    inp = inp.reshape((-1, 256, 256, 3))\n",
    "    inp = preprocess_input(inp)\n",
    "    prediction = model.predict(inp).flatten()\n",
    "    return {labels[i]: float(prediction[i]) for i in range(3)}"
   ]
  },
  {
   "cell_type": "code",
   "execution_count": 33,
   "metadata": {
    "id": "mB4qIus2XMhl"
   },
   "outputs": [],
   "source": [
    "image = gr.Image(shape=(256, 256), label=\"生豆照片\")\n",
    "label = gr.Label(num_top_classes=3, label=\"AI辨識結果\")\n",
    "some_text=\"我能辨識生豆處理法。找張生豆照片來考我吧!\""
   ]
  },
  {
   "cell_type": "code",
   "execution_count": 34,
   "metadata": {
    "id": "pxWUdRMEX1eH"
   },
   "outputs": [
    {
     "name": "stdout",
     "output_type": "stream",
     "text": [
      "Running on local URL:  http://127.0.0.1:7860/\n",
      "Running on public URL: https://17146.gradio.app\n",
      "\n",
      "This share link expires in 72 hours. For free permanent hosting, check out Spaces: https://huggingface.co/spaces\n"
     ]
    },
    {
     "data": {
      "text/html": [
       "<div><iframe src=\"https://17146.gradio.app\" width=\"900\" height=\"500\" allow=\"autoplay; camera; microphone;\" frameborder=\"0\" allowfullscreen></iframe></div>"
      ],
      "text/plain": [
       "<IPython.core.display.HTML object>"
      ]
     },
     "metadata": {},
     "output_type": "display_data"
    },
    {
     "data": {
      "text/plain": [
       "(<gradio.routes.App at 0x17c5f3490>,\n",
       " 'http://127.0.0.1:7860/',\n",
       " 'https://17146.gradio.app')"
      ]
     },
     "execution_count": 34,
     "metadata": {},
     "output_type": "execute_result"
    }
   ],
   "source": [
    "gr.Interface(fn=classify_image, \n",
    "             inputs=image, \n",
    "             outputs=label,\n",
    "             title=\"AI 生豆辨識機\",\n",
    "             description=some_text,\n",
    "             ).launch(share=True)"
   ]
  },
  {
   "cell_type": "code",
   "execution_count": 35,
   "metadata": {
    "id": "0eU7PfyDX5S_"
   },
   "outputs": [],
   "source": [
    "model.save('coffee_beans_model_v7.h5')"
   ]
  },
  {
   "cell_type": "code",
   "execution_count": 36,
   "metadata": {
    "id": "_sYRbmmekZH0"
   },
   "outputs": [
    {
     "data": {
      "text/plain": [
       "Reusing TensorBoard on port 6006 (pid 96338), started 1 day, 18:16:01 ago. (Use '!kill 96338' to kill it.)"
      ]
     },
     "metadata": {},
     "output_type": "display_data"
    },
    {
     "data": {
      "text/html": [
       "\n",
       "      <iframe id=\"tensorboard-frame-e410456c84ed48ae\" width=\"100%\" height=\"800\" frameborder=\"0\">\n",
       "      </iframe>\n",
       "      <script>\n",
       "        (function() {\n",
       "          const frame = document.getElementById(\"tensorboard-frame-e410456c84ed48ae\");\n",
       "          const url = new URL(\"/\", window.location);\n",
       "          const port = 6006;\n",
       "          if (port) {\n",
       "            url.port = port;\n",
       "          }\n",
       "          frame.src = url;\n",
       "        })();\n",
       "      </script>\n",
       "    "
      ],
      "text/plain": [
       "<IPython.core.display.HTML object>"
      ]
     },
     "metadata": {},
     "output_type": "display_data"
    },
    {
     "name": "stdout",
     "output_type": "stream",
     "text": [
      "1/1 [==============================] - 0s 485ms/step\n",
      "1/1 [==============================] - 0s 37ms/step\n",
      "1/1 [==============================] - 0s 169ms/step\n"
     ]
    }
   ],
   "source": [
    "# 訓練結束後可以使用魔術指令開啟tensorboard\n",
    "%tensorboard --logdir coffeelogs"
   ]
  },
  {
   "cell_type": "code",
   "execution_count": null,
   "metadata": {
    "id": "X5uE7x3LzX_X"
   },
   "outputs": [],
   "source": []
  }
 ],
 "metadata": {
  "colab": {
   "name": "coffee_beans.ipynb",
   "provenance": []
  },
  "gpuClass": "standard",
  "kernelspec": {
   "display_name": "Python 3 (ipykernel)",
   "language": "python",
   "name": "python3"
  },
  "language_info": {
   "codemirror_mode": {
    "name": "ipython",
    "version": 3
   },
   "file_extension": ".py",
   "mimetype": "text/x-python",
   "name": "python",
   "nbconvert_exporter": "python",
   "pygments_lexer": "ipython3",
   "version": "3.9.13"
  }
 },
 "nbformat": 4,
 "nbformat_minor": 1
}
